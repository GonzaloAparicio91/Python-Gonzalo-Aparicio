{
 "cells": [
  {
   "cell_type": "code",
   "execution_count": 2,
   "id": "d4cb57c6",
   "metadata": {},
   "outputs": [
    {
     "name": "stdout",
     "output_type": "stream",
     "text": [
      "La frecuencia de cada letra en la frase seleccionada es:\n",
      " {'m': 2, 'e': 1, 'l': 3, 'a': 2, 'o': 3, 'g': 1, 'n': 1, 'z': 1, '.': 1}\n"
     ]
    },
    {
     "data": {
      "text/plain": [
       "dict"
      ]
     },
     "execution_count": 2,
     "metadata": {},
     "output_type": "execute_result"
    }
   ],
   "source": [
    "# 1. Escribe una función que reciba una cadena de texto como parámetro y devuelva un diccionario con las frecuencias de cada letra en la cadena. Los espacios no deben ser considerados.\n",
    "\n",
    "texto = 'Me llamo Gonzalo.'\n",
    "\n",
    "def frecuencia_letras(texto):\n",
    "    frecuencias = {}\n",
    "    for caracter in texto:\n",
    "        if caracter != \" \":  \n",
    "            caracter = caracter.lower()  \n",
    "            if caracter in frecuencias:\n",
    "                frecuencias[caracter] += 1\n",
    "            else:\n",
    "                frecuencias[caracter] = 1\n",
    "    return frecuencias\n",
    "\n",
    "resultado = frecuencia_letras(texto)\n",
    "print('La frecuencia de cada letra en la frase seleccionada es:' '\\n', (resultado))\n",
    "\n",
    "type(resultado)"
   ]
  },
  {
   "cell_type": "code",
   "execution_count": 3,
   "id": "2a1bd8e2",
   "metadata": {},
   "outputs": [
    {
     "name": "stdout",
     "output_type": "stream",
     "text": [
      "El doble de los numeros de la lista original es:\n",
      " [2, 4, 6, 8, 10, 12, 14, 16, 18]\n"
     ]
    }
   ],
   "source": [
    "# 2. Dada una lista de números, obtén una nueva lista con el doble de cada valor. Usa la función map().\n",
    "\n",
    "lista = [1, 2, 3, 4, 5, 6, 7, 8, 9]\n",
    "lista2 = list(map(lambda x : x * 2, lista))\n",
    "\n",
    "print(\"El doble de los numeros de la lista original es:\" '\\n' , lista2)"
   ]
  },
  {
   "cell_type": "code",
   "execution_count": 4,
   "id": "900e0b53",
   "metadata": {},
   "outputs": [
    {
     "name": "stdout",
     "output_type": "stream",
     "text": [
      "Las palabras relacionadas con la palabra objetivo son:\n",
      " ['Perro', 'Perrito']\n"
     ]
    }
   ],
   "source": [
    "# 3. Escribe una función que tome una lista de palabras y una palabra objetivo como parámetros. La función debe devolver una lista con todas las palabras de la lista original que contengan la palabra objetivo.\n",
    "\n",
    "lista = ['Perro', 'Perrito', 'Gato', 'León', 'Tigre']\n",
    "palabra_objetivo = 'Perr'\n",
    "\n",
    "def buscar_palabras(lista, palabra_objetivo):\n",
    "    resultado = []\n",
    "    for palabra in lista:\n",
    "        if palabra_objetivo in palabra:\n",
    "            resultado.append(palabra)\n",
    "    return resultado\n",
    "\n",
    "resultado = buscar_palabras(lista, palabra_objetivo)\n",
    "print('Las palabras relacionadas con la palabra objetivo son:' '\\n' , resultado)"
   ]
  },
  {
   "cell_type": "code",
   "execution_count": 5,
   "id": "71821576",
   "metadata": {},
   "outputs": [
    {
     "name": "stdout",
     "output_type": "stream",
     "text": [
      "La diferencia entre los valores de las dos listas es:\n",
      " [9, 7, 5, 3, 1]\n"
     ]
    }
   ],
   "source": [
    "# 4. Genera una función que calcule la diferencia entre los valores de dos listas. Usa la función map().\n",
    "\n",
    "lista1 = [10, 9, 8, 7, 6]\n",
    "lista2 = [1, 2, 3, 4, 5]\n",
    "\n",
    "def diferencia(lista1, lista2):\n",
    "    return list(map(lambda x, y: x - y, lista1, lista2))\n",
    "\n",
    "resultado = diferencia(lista1, lista2)\n",
    "print('La diferencia entre los valores de las dos listas es:' '\\n', resultado)"
   ]
  },
  {
   "cell_type": "code",
   "execution_count": null,
   "id": "f6d0f97e",
   "metadata": {},
   "outputs": [
    {
     "name": "stdout",
     "output_type": "stream",
     "text": [
      "La media de las notas obtenidas es de 6.220000000000001, por lo tanto esta está: Aprobado.\n"
     ]
    }
   ],
   "source": [
    "# 5. Ecribe una función que tome una lista de números como parámetro y un valor opcional nota_aprobado, que por defecto es 5. La función debe calcular la media de los números en la lista y determinar si la media es mayor o igual que nota aprobado. Si es así, el estado será \"aprobado\", de lo contrario, será \"suspenso\". La función debe devolver una tupla que contenga la media y el estado.\n",
    "\n",
    "notas = [5.2, 6.5, 8.2, 2.3, 3.5, 4.8, 9.5, 10, 7.3, 4.9] # En la entrega anterior, había puesto dos supuestos, uno en el que la media salía aprobada y otra en la que salía suspenso para demostrar que el código estaba preparado para los dos supuestos\n",
    "media = sum(notas) / len(notas)\n",
    "\n",
    "def evaluar_notas(notas1, nota_aprobado=5):\n",
    "    if media >= nota_aprobado:\n",
    "        estado = \"Aprobado\"\n",
    "    else:\n",
    "        estado = \"Suspenso\"\n",
    "    return f'La media de las notas obtenidas es de {media}, por lo tanto esta está: {estado}.'\n",
    "print(evaluar_notas(notas))"
   ]
  },
  {
   "cell_type": "code",
   "execution_count": 95,
   "id": "6b4eaa2b",
   "metadata": {},
   "outputs": [
    {
     "name": "stdout",
     "output_type": "stream",
     "text": [
      "Error: El factorial no está definido para números negativos.\n"
     ]
    }
   ],
   "source": [
    "# 6. Escribe una función que calcule el factorial de un número de manera recursiva.\n",
    "\n",
    "def factorial(n):\n",
    "    if n < 0:\n",
    "        raise ValueError(\"El factorial no está definido para números negativos.\")\n",
    "    if n == 0 or n == 1:\n",
    "        return 1\n",
    "    else:\n",
    "        return n * factorial(n - 1)\n",
    "    \n",
    "try:\n",
    "    numero = int(input(\"Introduce un número entero para calcular su factorial: \"))\n",
    "    resultado = factorial(numero)\n",
    "    print(f\"El factorial de {numero} es {resultado}\")\n",
    "except ValueError as e:\n",
    "    print(f\"Error: {e}\")"
   ]
  },
  {
   "cell_type": "code",
   "execution_count": null,
   "id": "34143b01",
   "metadata": {},
   "outputs": [
    {
     "name": "stdout",
     "output_type": "stream",
     "text": [
      "La lista de tuplas convertida en strings es:\n",
      " ['(1, 2, 3)', '(4, 5, 6)', '(7, 8, 9)']\n"
     ]
    }
   ],
   "source": [
    "# 7. Genera una función que convierta una lista de tuplas a una lista de strings. Usa la función map().\n",
    "\n",
    "lista_tuplas = [(1, 2, 3), (4, 5, 6), (7, 8, 9)]\n",
    "lista_strings = list(map(str, lista_tuplas))\n",
    "\n",
    "def convertir_tuplas_a_strings():\n",
    "    lista_strings = list(map(str, lista_tuplas))\n",
    "    return lista_strings\n",
    "\n",
    "print(\"La lista de tuplas convertida en strings es:\" '\\n' , lista_strings)\n"
   ]
  },
  {
   "cell_type": "code",
   "execution_count": null,
   "id": "6622b5fa",
   "metadata": {},
   "outputs": [
    {
     "name": "stdout",
     "output_type": "stream",
     "text": [
      "El resultaod de la división 20.0 entre 2.0 es 10.0\n"
     ]
    }
   ],
   "source": [
    "# 8. Escribe un programa que pida al usuario dos números e intente dividirlos. Si el usuario ingresa un valor no numérico o intenta dividir por cero, maneja esas excepciones de manera adecuada. Asegúrate de mostrar un mensaje indicando si la división fue exitosa o no.\n",
    "\n",
    "def division():\n",
    "    num1 = input(\"Introduce el primer número: \")\n",
    "    num2 = input(\"Introduce el segundo número: \")\n",
    "\n",
    "    if not num1.replace(\".\", \"\", 1).isdigit() or not num2.replace(\".\", \"\", 1).isdigit():\n",
    "        print(\"Error: Debes ingresar solo valores numéricos.\")\n",
    "        return\n",
    "\n",
    "    num1 = float(num1)\n",
    "    num2 = float(num2)\n",
    "\n",
    "    if num2 == 0:\n",
    "        print(\"Error: No se puede dividir entre cero.\")\n",
    "        return\n",
    "    \n",
    "    resultado = num1 / num2\n",
    "    print(f\"El resultado de la división {num1} entre {num2} es {resultado}\")\n",
    "\n",
    "division()"
   ]
  },
  {
   "cell_type": "code",
   "execution_count": null,
   "id": "a5ee4182",
   "metadata": {},
   "outputs": [
    {
     "name": "stdout",
     "output_type": "stream",
     "text": [
      "De las mascotas de la lista, las que están permitidas son:\n",
      " ['Perro', 'Gato', 'Conejo', 'Hamster']\n"
     ]
    }
   ],
   "source": [
    "# 9. Escribe una función que tome una lista de nombres de mascotas como parámetro y devuelva una nueva lista excluyendo ciertas mascotas prohibidas en España. La lista de mascotas a excluir es [\"Mapache\", \"Tigre\", \"Serpiente Pitón\", \"Cocodrilo\", \"Oso\"].Usa la función filter().\n",
    "\n",
    "mascotas = [\"Perro\", \"Gato\", \"Mapache\", \"Conejo\", \"Tigre\", \"Hamster\", \"Oso\"]\n",
    "\n",
    "def filtrar_mascotas(lista_mascotas):\n",
    "    prohibidas = [\"Mapache\", \"Tigre\", \"Serpiente Pitón\", \"Cocodrilo\", \"Oso\"]\n",
    "    return list(filter(lambda mascota: mascota not in prohibidas, lista_mascotas))\n",
    "\n",
    "resultado = filtrar_mascotas(mascotas)\n",
    "\n",
    "print(\"De las mascotas de la lista, las que están permitidas son:\" \"\\n\", resultado)\n"
   ]
  },
  {
   "cell_type": "code",
   "execution_count": 211,
   "id": "f2cd9868",
   "metadata": {},
   "outputs": [
    {
     "name": "stdout",
     "output_type": "stream",
     "text": [
      "El promedio de la lista proporcionada es: 5.0\n",
      "Error: La lista está vacía. No se puede calcular el promedio.\n",
      "El promedio de la lista proporcionada es: None\n"
     ]
    }
   ],
   "source": [
    "# 10. Escribe una función que reciba una lista de números y calcule su promedio. Si la lista está vacía, lanza una excepción personalizada y maneja el error adecuadamente.\n",
    "\n",
    "lista = [1, 2, 3, 4, 5, 6, 7, 8, 9] \n",
    "lista_vacia = []\n",
    "\n",
    "class ListaVaciaError(Exception): \n",
    "    def __init__(self, mensaje=\"La lista está vacía. No se puede calcular el promedio.\"):\n",
    "        super().__init__(mensaje)\n",
    "\n",
    "\n",
    "def calcular_promedio(numeros): \n",
    "    if not numeros:  \n",
    "        print(\"Error: La lista está vacía. No se puede calcular el promedio.\")\n",
    "        return None\n",
    "    \n",
    "    return sum(numeros) / len(numeros)\n",
    "\n",
    "print('El promedio de la lista proporcionada es:', (calcular_promedio(lista))) # Este primer caso representa lo que ocurre con una lista nutrida con datos\n",
    "print('El promedio de la lista proporcionada es:', (calcular_promedio(lista_vacia))) # Este segundo caso representa lo que ocurre con una lista vacía"
   ]
  },
  {
   "cell_type": "code",
   "execution_count": 140,
   "id": "bda89f46",
   "metadata": {},
   "outputs": [
    {
     "name": "stdout",
     "output_type": "stream",
     "text": [
      "Tienes 12 años\n"
     ]
    }
   ],
   "source": [
    "#11. Escribe un programa que pida al usuario que introduzca su edad. Si el usuario ingresa un valor no numérico o un valor fuera del rango esperado (por ejemplo, menor que 0 o mayor que 120), maneja las excepciones adecuadamente.\n",
    "\n",
    "def pedir_edad():\n",
    "    edad_str = input(\"Introduce tu edad: \")\n",
    "\n",
    "    if edad_str.lstrip(\"-\").isdigit():\n",
    "        edad = int(edad_str)\n",
    "        \n",
    "        if 0 <= edad <= 120:\n",
    "            print(f\"Tienes {edad} años\")\n",
    "        else:\n",
    "            print(\"Error: La edad debe estar entre 0 y 120.\")\n",
    "    else:\n",
    "        print(\"Error: Debes introducir un valor numérico entero.\")\n",
    "\n",
    "pedir_edad()"
   ]
  },
  {
   "cell_type": "code",
   "execution_count": null,
   "id": "47151d79",
   "metadata": {},
   "outputs": [
    {
     "name": "stdout",
     "output_type": "stream",
     "text": [
      "La longutud de cada palabra en la frase escogida es de: [2, 5, 8]\n"
     ]
    }
   ],
   "source": [
    "# 12. Genera una función que al recibir una frase devuelva una lista con la longitud de cada palabra. Usa la función map().\n",
    "\n",
    "frase = 'Me llamo Gonzalo.'\n",
    "\n",
    "def longitudes_palabras(frase):\n",
    "    return list(map(len, frase.split()))\n",
    "\n",
    "print(\"La longutud de cada palabra en la frase escogida es de:\" , longitudes_palabras(frase))"
   ]
  },
  {
   "cell_type": "code",
   "execution_count": null,
   "id": "1605b8a0",
   "metadata": {},
   "outputs": [
    {
     "name": "stdout",
     "output_type": "stream",
     "text": [
      "La lista de tuplas solicitadas con los caracteres que hemos elegido es: '\n",
      "'  [('A', 'a'), ('B', 'b'), ('C', 'c'), ('D', 'd'), ('E', 'e')]\n"
     ]
    }
   ],
   "source": [
    "# 13. Genera una función la cual, para un conjunto de caracteres, devuelva una lista de tuplas con cada letra en mayúsculas y minúsculas. Las letras no pueden estar repetidas. Usa la función map().\n",
    "\n",
    "conjunto = ['A', 'b', 'C', 'd', 'E', 'a']\n",
    "\n",
    "def letras_mayus_minus(caracteres):\n",
    "    unicos = []\n",
    "    vistos = set()\n",
    "    \n",
    "    for c in caracteres:\n",
    "        c_lower = c.lower()\n",
    "        if c_lower not in vistos:\n",
    "            vistos.add(c_lower)\n",
    "            unicos.append(c_lower)\n",
    "\n",
    "    def tupla_mayus_minus(c):\n",
    "        return (c.upper(), c.lower())\n",
    "    \n",
    "    return list(map(tupla_mayus_minus, unicos))\n",
    "\n",
    "print(\"La lista de tuplas solicitadas con los caracteres que hemos elegido es: '\\n' \" , letras_mayus_minus(conjunto))"
   ]
  },
  {
   "cell_type": "code",
   "execution_count": null,
   "id": "4ccf0a67",
   "metadata": {},
   "outputs": [
    {
     "name": "stdout",
     "output_type": "stream",
     "text": [
      "Las palabras de la lista seleccionada que empiezan por la letra 'M' son:\n",
      " ['manzana', 'Melón', 'mango', 'Melocotón']\n"
     ]
    }
   ],
   "source": [
    "#14. Crea una función que retorne las palabras de una lista de palabras que comience con una letra en especifico. Usa la función filter().\n",
    "\n",
    "palabras = [\"manzana\", \"Melón\", \"pera\", \"mango\", \"banana\", \"Melocotón\"]\n",
    "\n",
    "def palabras_por_letra(lista_palabras, letra):\n",
    "    return list(filter(lambda palabra: palabra.lower().startswith(letra.lower()), lista_palabras))\n",
    "\n",
    "print(\"Las palabras de la lista seleccionada que empiezan por la letra 'M' son:\" '\\n', palabras_por_letra(palabras, \"m\"))"
   ]
  },
  {
   "cell_type": "code",
   "execution_count": 174,
   "id": "116ed466",
   "metadata": {},
   "outputs": [
    {
     "name": "stdout",
     "output_type": "stream",
     "text": [
      "La lista que surge al sumar tres a la lista original es: [4, 5, 6, 7, 8]\n"
     ]
    }
   ],
   "source": [
    "# 15. Crea una función lambda que sume 3 a cada número de una lista dada.\n",
    "\n",
    "lista = [1, 2, 3, 4, 5]\n",
    "\n",
    "lambda_tres = lambda lista: list(map(lambda x: x + 3, lista))\n",
    "\n",
    "print(\"La lista que surge al sumar tres a la lista original es:\", lambda_tres(lista))"
   ]
  },
  {
   "cell_type": "code",
   "execution_count": null,
   "id": "a947658f",
   "metadata": {},
   "outputs": [
    {
     "name": "stdout",
     "output_type": "stream",
     "text": [
      "['nombre', 'Gonzalo', 'Aparicio', 'treinta', 'cuatro']\n"
     ]
    }
   ],
   "source": [
    "# 16. Escribe una función que tome una cadena de texto y un número entero n como parámetros y devuelva una lista de todas las palabras que sean más largas que n. Usa la función filter().\n",
    "\n",
    "frase = \"Mi nombre es Gonzalo Aparicio y tengo treinta y cuatro años\"\n",
    "\n",
    "def palabras_largas(texto, n):\n",
    "    palabras = texto.split()\n",
    "    return list(filter(lambda palabra: len(palabra) > n, palabras))\n",
    "\n",
    "print(palabras_largas(frase, 5))"
   ]
  },
  {
   "cell_type": "code",
   "execution_count": 210,
   "id": "ff0916f3",
   "metadata": {},
   "outputs": [
    {
     "name": "stdout",
     "output_type": "stream",
     "text": [
      "Con esta función hemos podido reducir la lista con los numeros determinados a la cifra 572\n"
     ]
    }
   ],
   "source": [
    "# 17. Crea una función que tome una lista de dígitos y devuelva el número correspondiente. Por ejemplo, [5,7,2] corresponde al número quinientos setenta y dos (572). Usa la función reduce().\n",
    "\n",
    "from functools import reduce\n",
    "\n",
    "numeros = [5, 7, 2]\n",
    "\n",
    "def lista_a_numero():\n",
    "    numero = reduce(lambda x, y: x * 10 + y, numeros)\n",
    "    return numero\n",
    "\n",
    "print(\"Con esta función hemos podido reducir la lista con los numeros determinados a la cifra\" , lista_a_numero())"
   ]
  },
  {
   "cell_type": "code",
   "execution_count": null,
   "id": "e191169d",
   "metadata": {},
   "outputs": [
    {
     "name": "stdout",
     "output_type": "stream",
     "text": [
      "Estudiantes con calificación mayor o igual a 90:\n",
      "{'nombre': 'Ana', 'edad': 20, 'calificacion': 95}\n",
      "{'nombre': 'María', 'edad': 19, 'calificacion': 90}\n"
     ]
    }
   ],
   "source": [
    "# 18. Escribe un programa en Python que cree una lista de diccionarios que contenga información de estudiantes (nombre, edad, calificación) y use la función filter para extraer a los estudiantes con una calificación mayor o igual a 90. Usa la función filter().\n",
    "\n",
    "def estudiantes_destacados():\n",
    "    estudiantes = [\n",
    "        {\"nombre\": \"Ana\", \"edad\": 20, \"calificacion\": 95},\n",
    "        {\"nombre\": \"Luis\", \"edad\": 22, \"calificacion\": 85},\n",
    "        {\"nombre\": \"María\", \"edad\": 19, \"calificacion\": 90},\n",
    "        {\"nombre\": \"Pedro\", \"edad\": 21, \"calificacion\": 40},\n",
    "        {\"nombre\": \"Lucía\", \"edad\": 23, \"calificacion\": 50}\n",
    "    ]\n",
    "\n",
    "    return list(filter(lambda est: est[\"calificacion\"] >= 90, estudiantes))\n",
    "\n",
    "print(\"Estudiantes con calificación mayor o igual a 90:\")\n",
    "for est in estudiantes_destacados():\n",
    "    print(est)"
   ]
  },
  {
   "cell_type": "code",
   "execution_count": 209,
   "id": "566929f9",
   "metadata": {},
   "outputs": [
    {
     "name": "stdout",
     "output_type": "stream",
     "text": [
      "Los numeros impares de la lista seleccionada son:\n",
      " [1, 3, 5, 7, 9]\n"
     ]
    }
   ],
   "source": [
    "# 19. Crea una función lambda que filtre los números impares de una lista dada.\n",
    "\n",
    "lista = [1, 2, 3, 4, 5, 6, 7, 8, 9]\n",
    "\n",
    "impares = list(filter(lambda x: x % 2 != 0, lista))\n",
    "\n",
    "print(\"Los numeros impares de la lista seleccionada son:\" '\\n',  (impares))\n"
   ]
  },
  {
   "cell_type": "code",
   "execution_count": null,
   "id": "bb4f6d3e",
   "metadata": {},
   "outputs": [
    {
     "name": "stdout",
     "output_type": "stream",
     "text": [
      "Los números de esta lista son:\n",
      " [1, 2, 3, 4]\n"
     ]
    }
   ],
   "source": [
    "# 20. Para una lista con elementos tipo integer y string obtén una nueva lista sólo con los valores int. Usa la función filter().\n",
    "\n",
    "lista = [1, \"Mi\", 2, \"nombre\", 3, \"es\", 4, \"Gonzalo\"]\n",
    "\n",
    "numeros = list(filter(lambda x: isinstance(x, int), lista))\n",
    "\n",
    "print(\"Los números de esta lista son:\" '\\n' , numeros)"
   ]
  },
  {
   "cell_type": "code",
   "execution_count": 208,
   "id": "5215949e",
   "metadata": {},
   "outputs": [
    {
     "name": "stdout",
     "output_type": "stream",
     "text": [
      "Los numeros que resultan al elevar cada uno de los elementos de la lista original al cubo son:\n",
      " [1, 8, 27, 64, 125]\n"
     ]
    }
   ],
   "source": [
    "# 21. Crea una función que calcule el cubo de un número dado mediante una función lambda.\n",
    "\n",
    "lista = [1, 2, 3, 4, 5]\n",
    "\n",
    "def numeros_al_cubo(lista):\n",
    "    # Usamos map con una función lambda para elevar cada número al cubo\n",
    "    return list(map(lambda x: x ** 3, lista))\n",
    "\n",
    "print(\"Los numeros que resultan al elevar cada uno de los elementos de la lista original al cubo son:\" '\\n' , numeros_al_cubo(lista))"
   ]
  },
  {
   "cell_type": "code",
   "execution_count": 213,
   "id": "3a6dc690",
   "metadata": {},
   "outputs": [
    {
     "name": "stdout",
     "output_type": "stream",
     "text": [
      "El producto resultante al multiplicar todos los elementos de la lista es:\n",
      " 120\n"
     ]
    }
   ],
   "source": [
    "# 22. Dada una lista numérica, obtén el producto total de los valores de dicha lista. Usa la función reduce().\n",
    "\n",
    "numeros = [2, 3, 4, 5]\n",
    "\n",
    "def producto_lista(lista):\n",
    "    return reduce(lambda x, y: x * y, lista)\n",
    "\n",
    "print(\"El producto resultante al multiplicar todos los elementos de la lista es:\" '\\n' , producto_lista(numeros))"
   ]
  },
  {
   "cell_type": "code",
   "execution_count": 218,
   "id": "d5898e7a",
   "metadata": {},
   "outputs": [
    {
     "name": "stdout",
     "output_type": "stream",
     "text": [
      "El resultado de concatenar las palabras de la lista es:\n",
      " Mi nombre es Gonzalo Aparicio\n"
     ]
    }
   ],
   "source": [
    "#23. Concatena una lista de palabras. Usa la función reduce().\n",
    "\n",
    "lista = [\"Mi\", \" \", \"nombre\", \" \", \"es\", \" \", \"Gonzalo\", \" \", \"Aparicio\"]\n",
    "\n",
    "def concatenar_palabras(lista):\n",
    "    return reduce(lambda x, y: x + y, lista)\n",
    "\n",
    "print(\"El resultado de concatenar las palabras de la lista es:\" '\\n' , concatenar_palabras(lista))"
   ]
  },
  {
   "cell_type": "code",
   "execution_count": 225,
   "id": "e3242550",
   "metadata": {},
   "outputs": [
    {
     "name": "stdout",
     "output_type": "stream",
     "text": [
      "La diferencia total de los numeros de la lista es:\n",
      " 10\n"
     ]
    }
   ],
   "source": [
    "# 24. Calcula la diferencia total en los valores de una lista. Usa la función reduce().\n",
    "\n",
    "lista = [100, 20, 30, 40]\n",
    "\n",
    "def diferencia(lista):\n",
    "    return reduce(lambda x, y: x - y, lista)\n",
    "\n",
    "print(\"La diferencia total de los numeros de la lista es:\" '\\n', diferencia(lista))"
   ]
  },
  {
   "cell_type": "code",
   "execution_count": 227,
   "id": "205a6b01",
   "metadata": {},
   "outputs": [
    {
     "name": "stdout",
     "output_type": "stream",
     "text": [
      "El número de caracteres de la lista seleccionada es:\n",
      " 17\n"
     ]
    }
   ],
   "source": [
    "# 25. Crea una función que cuente el número de caracteres en una cadena de texto dada.\n",
    "\n",
    "cadena = 'Me llamo Gonzalo.'\n",
    "\n",
    "def contar_caracteres(cadena):\n",
    "    return len(cadena)\n",
    "\n",
    "print(\"El número de caracteres de la lista seleccionada es:\" '\\n' , contar_caracteres(cadena))"
   ]
  },
  {
   "cell_type": "code",
   "execution_count": 230,
   "id": "636b65ef",
   "metadata": {},
   "outputs": [
    {
     "name": "stdout",
     "output_type": "stream",
     "text": [
      "El resto de la división entre los dos números seleccionados es:\n",
      " 3\n"
     ]
    }
   ],
   "source": [
    "# 26. Crea una función lambda que calcule el resto de la división entre dos números dados.\n",
    "\n",
    "num1 = 103\n",
    "num2 = 5\n",
    "\n",
    "resto = lambda num1, num2: num1 % num2\n",
    "\n",
    "print(\"El resto de la división entre los dos números seleccionados es:\" '\\n' , resto(num1, num2))"
   ]
  },
  {
   "cell_type": "code",
   "execution_count": null,
   "id": "036cf882",
   "metadata": {},
   "outputs": [
    {
     "name": "stdout",
     "output_type": "stream",
     "text": [
      "El promedio de la lista que se ha introducido es de:\n",
      " 46.2\n"
     ]
    }
   ],
   "source": [
    "# 27, Crea una función que calcule el promedio de una lista de números.\n",
    "\n",
    "lista = [10, 25, 15, 80, 100]\n",
    "\n",
    "def promedio(lista):\n",
    "    if not lista:\n",
    "        return print(\"Por favor, introduzca los números de la lista\")\n",
    "    return sum(lista) / len(lista)\n",
    "\n",
    "print(\"El promedio de la lista que se ha introducido es de:\" '\\n', promedio(lista))"
   ]
  },
  {
   "cell_type": "code",
   "execution_count": null,
   "id": "a1907b82",
   "metadata": {},
   "outputs": [
    {
     "name": "stdout",
     "output_type": "stream",
     "text": [
      "El primer elemento que aparece duplicado en la lista es el número:\n",
      " 4\n"
     ]
    }
   ],
   "source": [
    "# 28. Crea una función que busque y devuelva el primer elemento duplicado en una lista dada.\n",
    "\n",
    "lista = [1, 2, 3, 4, 5, 4, 3, 2, 1]\n",
    "\n",
    "def primer_duplicado(lista):\n",
    "    vistos = set()\n",
    "    for elemento in lista:\n",
    "        if elemento in vistos:\n",
    "            return elemento  \n",
    "        vistos.add(elemento)\n",
    "    return None \n",
    "\n",
    "print(\"El primer elemento que aparece duplicado en la lista es el número:\" '\\n', primer_duplicado(lista))"
   ]
  },
  {
   "cell_type": "code",
   "execution_count": 258,
   "id": "9f73d85e",
   "metadata": {},
   "outputs": [
    {
     "name": "stdout",
     "output_type": "stream",
     "text": [
      "La variable enmascarada salvo los cuatro últimos dígitos es:\n",
      " ######seña\n"
     ]
    }
   ],
   "source": [
    "# 29. Crea una función que convierta una variable en una cadena de texto y enmascare todos los caracteres con el carácter '#', excepto los últimos cuatro. \n",
    "\n",
    "variable = (\"Contraseña\")\n",
    "\n",
    "def enmascarar_variable(valor):\n",
    "    valor_str = str(valor)\n",
    "    enmascarado = '#' * max(0, len(valor_str) - 4) + valor_str[-4:]\n",
    "    return enmascarado\n",
    "\n",
    "print(\"La variable enmascarada salvo los cuatro últimos dígitos es:\"  '\\n' , enmascarar_variable(variable))\n"
   ]
  },
  {
   "cell_type": "code",
   "execution_count": 263,
   "id": "d5364779",
   "metadata": {},
   "outputs": [
    {
     "name": "stdout",
     "output_type": "stream",
     "text": [
      "Roma y Amor → Son anagramas\n",
      "hola y ola → No son anagramas\n"
     ]
    }
   ],
   "source": [
    "# 30. Crea una función que determine si dos palabras son anagramas, es decir, si están formadas por las mismas letras pero en diferente orden.\n",
    "\n",
    "def verificar_anagramas():\n",
    "   \n",
    "    palabras = [\n",
    "        (\"Roma\", \"Amor\"),\n",
    "        (\"hola\", \"ola\")\n",
    "    ]\n",
    "    \n",
    "    resultados = []\n",
    "    for palabra1, palabra2 in palabras:\n",
    "        p1 = palabra1.replace(\" \", \"\").lower()\n",
    "        p2 = palabra2.replace(\" \", \"\").lower()\n",
    "        es_anagrama = sorted(p1) == sorted(p2)\n",
    "        resultados.append((palabra1, palabra2, es_anagrama))\n",
    "    return resultados\n",
    "\n",
    "for p1, p2, r in verificar_anagramas():\n",
    "    print(f\"{p1} y {p2} → {'Son anagramas' if r else 'No son anagramas'}\")"
   ]
  },
  {
   "cell_type": "code",
   "execution_count": 274,
   "id": "e114a592",
   "metadata": {},
   "outputs": [
    {
     "name": "stdout",
     "output_type": "stream",
     "text": [
      "Error: El nombre 'gonzalo' no aparece en la lista.\n"
     ]
    }
   ],
   "source": [
    "# 31. Crea una función que solicite al usuario ingresar una lista de nombres y luego solicite un nombre para buscar en esa lista. Si el nombre está en la lista, se imprime un mensaje indicando que fue encontrado, de lo contrario, se lanza una excepción.\n",
    "\n",
    "def buscar_nombre():\n",
    "    lista_nombres = input(\"Ingrese una lista de nombres separados por comas: \").split(\",\")\n",
    "    lista_nombres = [nombre.strip() for nombre in lista_nombres]\n",
    "\n",
    "\n",
    "    nombre_buscar = input(\"Ingrese el nombre a buscar: \").strip()\n",
    "\n",
    "    if nombre_buscar in lista_nombres:\n",
    "        print(f\"El nombre '{nombre_buscar}' aparece en la lista.\")\n",
    "    else:\n",
    "        print(f\"Error: El nombre '{nombre_buscar}' no aparece en la lista.\")\n",
    "\n",
    "buscar_nombre()"
   ]
  },
  {
   "cell_type": "code",
   "execution_count": 279,
   "id": "7f04f109",
   "metadata": {},
   "outputs": [
    {
     "name": "stdout",
     "output_type": "stream",
     "text": [
      "Carlos Perez trabaja como Gerente.\n"
     ]
    }
   ],
   "source": [
    "# 32. Crea una función que tome un nombre completo y una lista de empleados, busque el nombre completo en la lista y devuelve el puesto del empleado si está en la lista, de lo contrario, devuelve un mensaje indicando que la persona no trabaja aquí.\n",
    "\n",
    "empleados = [\n",
    "    {\"nombre\": \"Ana Fernandez\", \"puesto\": \"Abogada\"},\n",
    "    {\"nombre\": \"Lola Martinez\", \"puesto\": \"Analista\"},\n",
    "    {\"nombre\": \"Maria Lopez\", \"puesto\": \"Diseñadora\"},\n",
    "    {\"nombre\": \"Carlos Perez\", \"puesto\": \"Gerente\"}\n",
    "]\n",
    "\n",
    "def buscar_empleado():\n",
    "    nombre_completo = input(\"Ingrese el nombre completo del empleado a buscar: \").strip()\n",
    "    \n",
    "    # Buscar en la lista\n",
    "    for empleado in empleados:\n",
    "        if empleado[\"nombre\"].lower() == nombre_completo.lower():  # Insensible a mayúsculas\n",
    "            return f\"{empleado['nombre']} trabaja como {empleado['puesto']}.\"\n",
    "    \n",
    "    return f\"La persona '{nombre_completo}' no trabaja aquí.\"\n",
    "\n",
    "print(buscar_empleado())"
   ]
  },
  {
   "cell_type": "code",
   "execution_count": 281,
   "id": "04b5f582",
   "metadata": {},
   "outputs": [
    {
     "name": "stdout",
     "output_type": "stream",
     "text": [
      "La suma de los pares de valores de las dos listas es de:\n",
      " [5, 7, 9, 11, 13]\n"
     ]
    }
   ],
   "source": [
    "# 33. Crea una función lambda que sume elementos correspondientes de dos listas dadas.\n",
    "\n",
    "lista1 = [0, 1, 2, 3, 4]\n",
    "lista2 = [5, 6, 7, 8, 9]\n",
    "\n",
    "# Función lambda con map para sumar elementos correspondientes\n",
    "suma_listas = list(map(lambda x, y: x + y, lista1, lista2))\n",
    "\n",
    "print(\"La suma de los pares de valores de las dos listas es de:\" '\\n',  suma_listas)"
   ]
  },
  {
   "cell_type": "code",
   "execution_count": 283,
   "id": "82003d8c",
   "metadata": {},
   "outputs": [
    {
     "name": "stdout",
     "output_type": "stream",
     "text": [
      "{'longitud_tronco': 2, 'numero_ramas': 2, 'longitudes_ramas': [2, 1]}\n"
     ]
    }
   ],
   "source": [
    "# 34. Crea la clase Arbol , define un árbol genérico con un tronco y ramas como atributos. Los métodos disponibles son: crecer_tronco , nueva_rama , crecer_ramas , quitar_rama e info_arbol . El objetivo es implementar estos métodos para manipular la estructura del árbol.\n",
    "\n",
    "class Arbol:\n",
    "    def __init__(self):\n",
    "        self.tronco = 1\n",
    "        self.ramas = []\n",
    "\n",
    "    def crecer_tronco(self):\n",
    "        self.tronco += 1\n",
    "\n",
    "    def nueva_rama(self):\n",
    "        self.ramas.append(1)\n",
    "\n",
    "    def crecer_ramas(self):\n",
    "        self.ramas = [rama + 1 for rama in self.ramas]\n",
    "\n",
    "    def quitar_rama(self, posicion):\n",
    "        if 0 <= posicion < len(self.ramas):\n",
    "            self.ramas.pop(posicion)\n",
    "        else:\n",
    "            print(\"Posición de rama inválida.\")\n",
    "\n",
    "    def info_arbol(self):\n",
    "        info = {\n",
    "            \"longitud_tronco\": self.tronco,\n",
    "            \"numero_ramas\": len(self.ramas),\n",
    "            \"longitudes_ramas\": self.ramas\n",
    "        }\n",
    "        return info\n",
    "\n",
    "# 1. Crear un árbol\n",
    "mi_arbol = Arbol()\n",
    "\n",
    "# 2. Hacer crecer el tronco una unidad\n",
    "mi_arbol.crecer_tronco()\n",
    "\n",
    "# 3. Añadir una nueva rama\n",
    "mi_arbol.nueva_rama()\n",
    "\n",
    "# 4. Hacer crecer todas las ramas una unidad\n",
    "mi_arbol.crecer_ramas()\n",
    "\n",
    "# 5. Añadir dos nuevas ramas\n",
    "mi_arbol.nueva_rama()\n",
    "mi_arbol.nueva_rama()\n",
    "\n",
    "# 6. Retirar la rama en la posición 2 (índice 2)\n",
    "mi_arbol.quitar_rama(2)\n",
    "\n",
    "# 7. Obtener información sobre el árbol\n",
    "informacion = mi_arbol.info_arbol()\n",
    "print(informacion)"
   ]
  },
  {
   "cell_type": "code",
   "execution_count": 15,
   "id": "bbfead03",
   "metadata": {},
   "outputs": [
    {
     "name": "stdout",
     "output_type": "stream",
     "text": [
      "Bob agregó 20 unidades. Saldo actual: 70\n",
      "Alicia transfirió 80 unidades a Bob. Saldo de Alicia: 20, Saldo de Bob: 150\n",
      "Alicia no tiene suficiente saldo para transferir 70 unidades.\n",
      "Alicia no tiene suficiente saldo para retirar 50 unidades.\n"
     ]
    }
   ],
   "source": [
    "# 36. Crea la clase UsuarioBanco ,representa a un usuario de un banco con su nombre, saldo y si tiene o no cuenta corriente. Proporciona métodos para realizar operaciones como retirar dinero, transferir dinero desde otro usuario y agregar dinero al saldo.\n",
    "\n",
    "class UsuarioBanco:\n",
    "    def __init__(self, nombre, saldo=0, cuenta_corriente=False):\n",
    "        self.nombre = nombre\n",
    "        self.saldo = saldo\n",
    "        self.cuenta_corriente = cuenta_corriente\n",
    "\n",
    "    def retirar_dinero(self, cantidad):\n",
    "        if cantidad <= 0:\n",
    "            return f\"La cantidad a retirar debe ser mayor que cero.\"\n",
    "        if cantidad > self.saldo:\n",
    "            return f\"{self.nombre} no tiene suficiente saldo para retirar {cantidad} unidades.\"\n",
    "        self.saldo -= cantidad\n",
    "        return f\"{self.nombre} retiró {cantidad} unidades. Saldo actual: {self.saldo}\"\n",
    "\n",
    "    # 3. Método transferir_dinero\n",
    "    def transferir_dinero(self, otro_usuario, cantidad):\n",
    "        if cantidad <= 0:\n",
    "             return \"La cantidad a transferir debe ser mayor que cero.\"\n",
    "        if cantidad > self.saldo:\n",
    "            return f\"{self.nombre} no tiene suficiente saldo para transferir {cantidad} unidades.\"\n",
    "        self.saldo -= cantidad\n",
    "        otro_usuario.saldo += cantidad\n",
    "        return (f\"{self.nombre} transfirió {cantidad} unidades a {otro_usuario.nombre}. \"\n",
    "            f\"Saldo de {self.nombre}: {self.saldo}, Saldo de {otro_usuario.nombre}: {otro_usuario.saldo}\")\n",
    "\n",
    "    # 4. Método agregar_dinero\n",
    "    def agregar_dinero(self, cantidad):\n",
    "        if cantidad <= 0:\n",
    "            return \"La cantidad a agregar debe ser mayor que cero.\"\n",
    "        self.saldo += cantidad\n",
    "        return f\"{self.nombre} agregó {cantidad} unidades. Saldo actual: {self.saldo}\"\n",
    "\n",
    "# 1. Crear dos usuarios\n",
    "alicia = UsuarioBanco(\"Alicia\", saldo=100, cuenta_corriente=True)\n",
    "bob = UsuarioBanco(\"Bob\", saldo=50, cuenta_corriente=True)\n",
    "\n",
    "# 2. Agregar 20 unidades al saldo de Bob\n",
    "print(bob.agregar_dinero(20))\n",
    "\n",
    "# 3. Hacer una transferencia de 80 unidades desde Bob a Alicia\n",
    "print(alicia.transferir_dinero(bob, 80))\n",
    "\n",
    "# Ajustamos la transferencia a 70 unidades para que funcione\n",
    "print(alicia.transferir_dinero(bob, 70))\n",
    "\n",
    "# 4. Retirar 50 unidades de saldo a Alicia\n",
    "print(alicia.retirar_dinero(50))"
   ]
  },
  {
   "cell_type": "code",
   "execution_count": 289,
   "id": "fa1d4a8b",
   "metadata": {},
   "outputs": [
    {
     "name": "stdout",
     "output_type": "stream",
     "text": [
      "Contar palabras:\n",
      "{'mi': 1, 'nombre': 1, 'es': 1, 'gonzalo': 1, 'aparicio': 1, '.': 1}\n",
      "\n",
      "Reemplazar 'Mi nombre es' por 'Me llamo':\n",
      "Me llamo Gonzalo Aparicio .\n",
      "\n",
      "Eliminar palabra 'Aparicio':\n",
      "Mi nombre es Gonzalo .\n"
     ]
    }
   ],
   "source": [
    "# 37. Crea una función llamada procesar_texto que procesa un texto según la opción especificada: contar_palabras, reemplazar_palabras , eliminar_palabra . Estas opciones son otras funciones que tenemos que definir primero y llamar dentro de la función procesar_texto.\n",
    "\n",
    "def contar_palabras(texto):\n",
    "    palabras = texto.split()\n",
    "    conteo = {}\n",
    "    for palabra in palabras:\n",
    "        palabra_lower = palabra.lower()\n",
    "        conteo[palabra_lower] = conteo.get(palabra_lower, 0) + 1\n",
    "    return conteo\n",
    "\n",
    "def reemplazar_palabras(texto, palabra_original, palabra_nueva):\n",
    "    return texto.replace(palabra_original, palabra_nueva)\n",
    "\n",
    "def eliminar_palabra(texto, palabra_a_eliminar):\n",
    "    palabras = texto.split()\n",
    "    resultado = [palabra for palabra in palabras if palabra != palabra_a_eliminar]\n",
    "    return \" \".join(resultado)\n",
    "\n",
    "def procesar_texto(texto, opcion, *args):\n",
    "    if opcion == \"contar\":\n",
    "        return contar_palabras(texto)\n",
    "    elif opcion == \"reemplazar\":\n",
    "        if len(args) != 2:\n",
    "            return \"Error: se requieren 2 argumentos (palabra_original, palabra_nueva) para reemplazar.\"\n",
    "        return reemplazar_palabras(texto, args[0], args[1])\n",
    "    elif opcion == \"eliminar\":\n",
    "        if len(args) != 1:\n",
    "            return \"Error: se requiere 1 argumento (palabra_a_eliminar) para eliminar.\"\n",
    "        return eliminar_palabra(texto, args[0])\n",
    "    else:\n",
    "        return \"Opción inválida. Usa 'contar', 'reemplazar' o 'eliminar'.\"\n",
    "\n",
    "texto = \"Mi nombre es Gonzalo Aparicio .\"\n",
    "\n",
    "print(\"Contar palabras:\")\n",
    "print(procesar_texto(texto, \"contar\"))\n",
    "\n",
    "print(\"\\nReemplazar 'Mi nombre es' por 'Me llamo':\")\n",
    "print(procesar_texto(texto, \"reemplazar\", \"Mi nombre es\", \"Me llamo\"))\n",
    "\n",
    "print(\"\\nEliminar palabra 'Aparicio':\")\n",
    "print(procesar_texto(texto, \"eliminar\", \"Aparicio\"))"
   ]
  },
  {
   "cell_type": "code",
   "execution_count": 292,
   "id": "b8849d82",
   "metadata": {},
   "outputs": [
    {
     "name": "stdout",
     "output_type": "stream",
     "text": [
      "Hora fuera de rango. Debe estar entre 0 y 23.\n"
     ]
    }
   ],
   "source": [
    "# 38. Genera un programa que nos diga si es de noche, de día o tarde según la hora proporcionada por el usuario.\n",
    "\n",
    "hora_input = input(\"Introduce la hora (0-23): \")\n",
    "\n",
    "if not hora_input.isdigit():\n",
    "    print(\"Por favor, ingresa un número válido entre 0 y 23.\")\n",
    "else:\n",
    "    hora = int(hora_input)\n",
    "    \n",
    "    if 0 <= hora <= 23:\n",
    "        if 6 <= hora < 12:\n",
    "            print(\"Es por la mañana.\")\n",
    "        elif 12 <= hora < 18:\n",
    "            print(\"Es por la tarde.\")\n",
    "        else:\n",
    "            print(\"Es por la noche.\")\n",
    "    else:\n",
    "        print(\"Hora fuera de rango. Debe estar entre 0 y 23.\")"
   ]
  },
  {
   "cell_type": "code",
   "execution_count": 300,
   "id": "ed7094fa",
   "metadata": {},
   "outputs": [
    {
     "name": "stdout",
     "output_type": "stream",
     "text": [
      "La calificación del alumno es de 70, Bien.\n"
     ]
    }
   ],
   "source": [
    "# 39. Escribe un programa que determine qué calificación en texto tiene un alumno en base a su calificación numérica.\n",
    " \n",
    "calificacion_input = input(\"Introduce la calificación del alumno (0-100): \")\n",
    "\n",
    "if not calificacion_input.isdigit():\n",
    "    print(\"Por favor, ingresa un número válido entre 0 y 100.\")\n",
    "else:\n",
    "    calificacion = int(calificacion_input)\n",
    "    \n",
    "    if 0 <= calificacion <= 100:\n",
    "        if 0 <= calificacion <= 69:\n",
    "            texto = \"Insuficiente\"\n",
    "        elif 70 <= calificacion <= 79:\n",
    "            texto = \"Bien\"\n",
    "        elif 80 <= calificacion <= 89:\n",
    "            texto = \"Muy bien\"\n",
    "        else:\n",
    "            texto = \"Excelente\"\n",
    "        print(f\"La calificación del alumno es de {calificacion_input}, {texto}.\")\n",
    "    else:\n",
    "        print(\"Calificación fuera de rango. Debe estar entre 0 y 100.\")"
   ]
  },
  {
   "cell_type": "code",
   "execution_count": null,
   "id": "731effb4",
   "metadata": {},
   "outputs": [
    {
     "name": "stdout",
     "output_type": "stream",
     "text": [
      "Área del rectángulo: 15\n",
      "Área del círculo: 50.26548245743669\n",
      "Área del triángulo: 6.0\n",
      "Figura no válida: Error: figura no reconocida.\n",
      "Parámetros incorrectos: Error: número de parámetros incorrecto.\n"
     ]
    }
   ],
   "source": [
    "# 40. Escribe una función que tome dos parámetros: figura (una cadena que puede ser \"rectangulo\" , \"circulo\" o \"triangulo\" ) y datos (una tupla con los datos necesarios para calcular el área de la figura).\n",
    "\n",
    "import math\n",
    "\n",
    "rectangulo = (5, 3)  \n",
    "circulo = (4,)       \n",
    "triangulo = (6, 2)   \n",
    "\n",
    "def calcular_area(figura, datos):\n",
    "    formulas = {\n",
    "        \"rectangulo\": lambda b, h: b * h,\n",
    "        \"circulo\": lambda r: math.pi * r**2,\n",
    "        \"triangulo\": lambda b, h: (b * h) / 2\n",
    "    }\n",
    "    if figura not in formulas:\n",
    "        return \"Error: figura no reconocida.\"\n",
    "    try:\n",
    "        return formulas[figura](*datos)\n",
    "    except TypeError:\n",
    "        return \"Error: número de parámetros incorrecto.\"\n",
    "\n",
    "print(\"Área del rectángulo:\", calcular_area(\"rectangulo\", rectangulo))\n",
    "print(\"Área del círculo:\", calcular_area(\"circulo\", circulo))\n",
    "print(\"Área del triángulo:\", calcular_area(\"triangulo\", triangulo))\n",
    "print(\"Figura no válida:\", calcular_area(\"cuadrado\", (5,)))\n",
    "print(\"Parámetros incorrectos:\", calcular_area(\"rectangulo\", (5,)))"
   ]
  },
  {
   "cell_type": "code",
   "execution_count": null,
   "id": "f8a9f425",
   "metadata": {},
   "outputs": [
    {
     "name": "stdout",
     "output_type": "stream",
     "text": [
      "Precio final con descuento: 149.00€\n"
     ]
    }
   ],
   "source": [
    "# 41. Escribe un programa en Python que utilice condicionales para determinar el monto final de una compra en una tienda en línea, después de aplicar un descuento.\n",
    "\n",
    "precio_input = input(\"Introduce el precio original del artículo (€): \").replace(',', '.')\n",
    "\n",
    "if precio_input.replace('.', '', 1).isdigit():\n",
    "    precio_original = float(precio_input)\n",
    "    \n",
    "    if precio_original <= 0:\n",
    "        print(\"El precio debe ser mayor que 0.\")\n",
    "    else:\n",
    "        tiene_cupon = input(\"¿Tienes un cupón de descuento? (sí/no): \").strip().lower()\n",
    "        \n",
    "        if tiene_cupon == \"sí\" or tiene_cupon == \"si\":\n",
    "            cupon_input = input(\"Introduce el valor del cupón de descuento (€): \").replace(',', '.')\n",
    "            \n",
    "            if cupon_input.replace('.', '', 1).isdigit():\n",
    "                valor_cupon = float(cupon_input)\n",
    "                \n",
    "                if valor_cupon > 0:\n",
    "                    precio_final = precio_original - valor_cupon\n",
    "                    if precio_final < 0:\n",
    "                        precio_final = 0\n",
    "                    print(f\"Precio final con descuento: {precio_final:.2f}€\")\n",
    "                else:\n",
    "                    print(\"Valor de cupón no válido. Debe ser mayor que 0.\")\n",
    "                    print(f\"Precio final: {precio_original:.2f}€\")\n",
    "            else:\n",
    "                print(\"Valor de cupón no válido. Debe ser un número.\")\n",
    "                print(f\"Precio final: {precio_original:.2f}€\")\n",
    "        \n",
    "        elif tiene_cupon == \"no\":\n",
    "            print(f\"Precio final sin descuento: {precio_original:.2f}€\")\n",
    "        \n",
    "        else:\n",
    "            print(\"Respuesta inválida. Debes responder 'sí' o 'no'.\")\n",
    "else:\n",
    "    print(\"Precio ingresado no válido. Debe ser un número.\")"
   ]
  }
 ],
 "metadata": {
  "kernelspec": {
   "display_name": "Python 3",
   "language": "python",
   "name": "python3"
  },
  "language_info": {
   "codemirror_mode": {
    "name": "ipython",
    "version": 3
   },
   "file_extension": ".py",
   "mimetype": "text/x-python",
   "name": "python",
   "nbconvert_exporter": "python",
   "pygments_lexer": "ipython3",
   "version": "3.13.5"
  }
 },
 "nbformat": 4,
 "nbformat_minor": 5
}
